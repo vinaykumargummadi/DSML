{
  "cells": [
    {
      "cell_type": "markdown",
      "metadata": {
        "id": "gT6zDujOqRdr"
      },
      "source": [
        "# MNIST Image Classification using Multilayer Perceptron (MLP)\n",
        "\n",
        "<b>Description:</b><br/>\n",
        "In this Jupyter notebook, we will delve into the fundamental task of image classification using the MNIST dataset.\n",
        "\n",
        "The MNIST dataset consists of 28x28 grayscale images of handwritten digits (0 through 9) and is a widely used benchmark in the field of machine learning.\n",
        "\n",
        "<b>Objective:</b><br/>\n",
        "Our primary objective is to train a Multilayer Perceptron (MLP) model to accurately classify these handwritten digits."
      ]
    },
    {
      "cell_type": "markdown",
      "metadata": {
        "id": "U6PMH4SssWCx"
      },
      "source": [
        "#Data Loading and Exploration"
      ]
    },
    {
      "cell_type": "code",
      "execution_count": 2,
      "metadata": {
        "id": "K8NG0uhazpyl"
      },
      "outputs": [],
      "source": [
        "#Importing important libraries like numpy, tensorflow, matplotlib\n",
        "import tensorflow as tf\n",
        "import numpy as np\n",
        "import matplotlib.pyplot as plt"
      ]
    },
    {
      "cell_type": "code",
      "execution_count": 18,
      "metadata": {
        "id": "pwkQ7ZfTzyx4"
      },
      "outputs": [],
      "source": [
        "#Loading the data MNIST dataset, Sequential model, Dense layer\n",
        "from tensorflow.keras.datasets import mnist\n",
        "from tensorflow.keras.models import Sequential\n",
        "from tensorflow.keras.layers import Dense\n",
        "from tensorflow.keras.callbacks import EarlyStopping"
      ]
    },
    {
      "cell_type": "code",
      "execution_count": 4,
      "metadata": {
        "colab": {
          "base_uri": "https://localhost:8080/"
        },
        "id": "B24yNspUz02i",
        "outputId": "d453e753-f91c-4dfe-e9ea-08a1abf74cd0"
      },
      "outputs": [
        {
          "name": "stdout",
          "output_type": "stream",
          "text": [
            "Downloading data from https://storage.googleapis.com/tensorflow/tf-keras-datasets/mnist.npz\n",
            "11490434/11490434 [==============================] - 0s 0us/step\n"
          ]
        }
      ],
      "source": [
        "#mnist.load_data returns two tuples for both training and test data\n",
        "(xtrain,ytrain),(xtest,ytest)=mnist.load_data()"
      ]
    },
    {
      "cell_type": "markdown",
      "metadata": {
        "id": "GqNvVXY9uNIG"
      },
      "source": [
        "### Normalization\n",
        "This normalization ensures that the input features, representing the grayscale intensity of each pixel, are standardized across the dataset.  \n",
        "Normalization is a crucial step to enhance the stability and convergence of our Multilayer Perceptron (MLP) model during training, <b>facilitating more effective learning of patterns and features within the images.</b>"
      ]
    },
    {
      "cell_type": "code",
      "execution_count": 5,
      "metadata": {
        "id": "zrVO1-Wk0ceQ"
      },
      "outputs": [],
      "source": [
        "#we normalize the pixel values of the images in the MNIST dataset.\n",
        "xtrain, xtest = xtrain / 255.0, xtest / 255.0"
      ]
    },
    {
      "cell_type": "code",
      "execution_count": 6,
      "metadata": {
        "colab": {
          "base_uri": "https://localhost:8080/"
        },
        "id": "pa9r6MdQ1klv",
        "outputId": "61c630d3-f5aa-407f-db8f-d56d7c6b9e4c"
      },
      "outputs": [
        {
          "name": "stdout",
          "output_type": "stream",
          "text": [
            "x-train: (60000, 28, 28)\n",
            "x-test: (10000, 28, 28)\n",
            "y-train: (60000,)\n",
            "y-test: (10000,)\n"
          ]
        }
      ],
      "source": [
        "print(\"x-train:\",xtrain.shape)\n",
        "print(\"x-test:\",xtest.shape)\n",
        "print(\"y-train:\",ytrain.shape)\n",
        "print(\"y-test:\",ytest.shape)"
      ]
    },
    {
      "cell_type": "markdown",
      "metadata": {
        "id": "6p6MwisavNUT"
      },
      "source": [
        "### Building the Multilayer Perceptron (MLP) Model\n",
        "\n",
        "In this section, we construct a sequential neural network model for image classification using the MNIST dataset. The architecture consists of densely connected layers, forming a Multilayer Perceptron.   \n",
        "<b>Hidden layers:</b> We stack multiple dense layers with appropriate activation functions to capture complex relationships within the data.  \n",
        "<b>Output layer:</b> The final layer uses the <b>softmax activation,</b> facilitating the model's output as probabilities across the different classes (digits 0 through 9).  \n",
        "This architecture is designed to learn and generalize patterns from the normalized pixel values, paving the way for effective digit recognition.\n"
      ]
    },
    {
      "cell_type": "code",
      "execution_count": 12,
      "metadata": {
        "id": "b3pOy-W20lSd"
      },
      "outputs": [],
      "source": [
        "model = Sequential()\n",
        "input_dim = 28*28\n",
        "output_dim = 10\n",
        "model.add(Dense(units=64, activation='relu', input_dim=input_dim))\n",
        "model.add(Dense(units=32, activation='relu'))\n",
        "model.add(Dense(units=output_dim, activation='softmax'))"
      ]
    },
    {
      "cell_type": "markdown",
      "metadata": {
        "id": "JgBgycXg1LSb"
      },
      "source": [
        "### Compiling the Model and Configuring Training Parameters\n",
        "\n",
        "Before training the model, we compile it by specifying the optimizer, loss function, and evaluation metric. In this project, we use the <b>Adam optimizer, </b>a popular choice for its adaptive learning rate capabilities. Other commonly used optimizers include SGD (Stochastic Gradient Descent) and RMSprop.\n",
        "\n",
        "The chosen loss function is **'Sparse Categorical Crossentropy,'** suitable for multi-class classification tasks like digit recognition. It calculates the cross-entropy loss between the predicted probabilities and the true class labels, efficiently handling cases where each instance belongs to a single class. This loss function is well-suited for scenarios where the classes are mutually exclusive, as is the case with digit classification in the MNIST dataset."
      ]
    },
    {
      "cell_type": "code",
      "execution_count": 8,
      "metadata": {
        "id": "PBbBJAQ52iBL"
      },
      "outputs": [],
      "source": [
        "model.compile(optimizer='adam', loss='sparse_categorical_crossentropy', metrics=['accuracy'])"
      ]
    },
    {
      "cell_type": "markdown",
      "metadata": {
        "id": "YsNekyneLsBs"
      },
      "source": [
        "## Flattening\n",
        "Flattening the data is a preprocessing step in neural networks, particularly in Multilayer Perceptron (MLP) models.  \n",
        "It involves converting multidimensional input, such as images represented as 2D or 3D arrays, into a one-dimensional vector."
      ]
    },
    {
      "cell_type": "code",
      "execution_count": 13,
      "metadata": {
        "id": "4YjZaC1e2wrh"
      },
      "outputs": [],
      "source": [
        "xtrain_flattened = xtrain.reshape((60000,28*28))"
      ]
    },
    {
      "cell_type": "code",
      "execution_count": 21,
      "metadata": {
        "colab": {
          "base_uri": "https://localhost:8080/"
        },
        "id": "N_p4TpcUKd7D",
        "outputId": "cfa98d77-55ae-4991-f315-360b49a4b3a4"
      },
      "outputs": [
        {
          "name": "stdout",
          "output_type": "stream",
          "text": [
            "Before Flattening: (60000, 28, 28)\n",
            "After Flattening: (60000, 784)\n"
          ]
        }
      ],
      "source": [
        "print(\"Before Flattening:\",xtrain.shape)\n",
        "print(\"After Flattening:\",xtrain_flattened.shape)"
      ]
    },
    {
      "cell_type": "markdown",
      "metadata": {
        "id": "FNT38RT14z-S"
      },
      "source": [
        "### Training the Model using `model.fit()`\n",
        "\n",
        "The `model.fit()` method is used to train the Multilayer Perceptron (MLP) model on the provided dataset. Key parameters include:\n",
        "\n",
        "- **Training Data (`xtrain`):** The input data used for training the model.\n",
        "- **Training Labels (`ytrain`):** The corresponding labels or target values for the training data.\n",
        "- **Epochs:** The number of times the model iterates over the entire training dataset during training.\n",
        "- **Batch Size:** The number of samples processed before updating the model's weights, aiding in efficient memory usage.\n",
        "- **Validation Split:** The proportion of training data to set aside for validation, typically a percentage between 0 and 1. For instance, `validation_split=0.2` allocates 20% of the training data for validation.\n",
        "- **Callbacks:** Custom functions that can be invoked at various training stages, facilitating dynamic adjustments or logging.\n"
      ]
    },
    {
      "cell_type": "code",
      "execution_count": 19,
      "metadata": {
        "id": "kF2V3kjT7t89"
      },
      "outputs": [],
      "source": [
        "early_stopping = EarlyStopping(monitor='val_loss', patience=3, restore_best_weights=True)"
      ]
    },
    {
      "cell_type": "code",
      "execution_count": 23,
      "metadata": {
        "colab": {
          "base_uri": "https://localhost:8080/"
        },
        "id": "iUg-ACpa7H5t",
        "outputId": "e8b88d61-cb25-41ca-81ad-914e705d79f6"
      },
      "outputs": [
        {
          "name": "stdout",
          "output_type": "stream",
          "text": [
            "Epoch 1/10\n",
            "1500/1500 [==============================] - 3s 2ms/step - loss: 0.0315 - accuracy: 0.9897 - val_loss: 0.1111 - val_accuracy: 0.9717\n",
            "Epoch 2/10\n",
            "1500/1500 [==============================] - 3s 2ms/step - loss: 0.0240 - accuracy: 0.9922 - val_loss: 0.1198 - val_accuracy: 0.9714\n",
            "Epoch 3/10\n",
            "1500/1500 [==============================] - 3s 2ms/step - loss: 0.0224 - accuracy: 0.9928 - val_loss: 0.1192 - val_accuracy: 0.9722\n",
            "Epoch 4/10\n",
            "1500/1500 [==============================] - 3s 2ms/step - loss: 0.0201 - accuracy: 0.9932 - val_loss: 0.1439 - val_accuracy: 0.9667\n"
          ]
        }
      ],
      "source": [
        "h=model.fit(xtrain_flattened, ytrain, epochs=10, batch_size=32, validation_split=0.2, callbacks=[early_stopping])"
      ]
    },
    {
      "cell_type": "code",
      "execution_count": 26,
      "metadata": {
        "id": "IGaTenP_AUB8"
      },
      "outputs": [],
      "source": [
        "training_loss=h.history['loss']\n",
        "validation_loss=h.history['val_loss']\n",
        "epochs = range(1, len(training_loss) + 1)"
      ]
    },
    {
      "cell_type": "code",
      "execution_count": 34,
      "metadata": {
        "colab": {
          "base_uri": "https://localhost:8080/",
          "height": 449
        },
        "id": "8CQr6jciA9e8",
        "outputId": "7df20a41-9a4c-4f60-a105-942d2b200cd9"
      },
      "outputs": [
        {
          "data": {
            "image/png": "[encoded data removed]",
            "text/plain": [
              "<Figure size 640x480 with 1 Axes>"
            ]
          },
          "metadata": {},
          "output_type": "display_data"
        }
      ],
      "source": [
        "plt.plot(epochs,training_loss,color='blue',marker='o',label=\"Training Loss\")\n",
        "plt.plot(epochs,validation_loss,color='green',marker='o',label=\"Validation Loss\")\n",
        "plt.xlabel('Epochs')\n",
        "plt.ylabel('Loss')\n",
        "plt.legend()\n",
        "plt.show()"
      ]
    },
    {
      "cell_type": "code",
      "execution_count": 13,
      "metadata": {
        "colab": {
          "base_uri": "https://localhost:8080/"
        },
        "id": "Vg6KF2243JGT",
        "outputId": "83b538b7-7127-41a8-b26a-c3a4d9b1280c"
      },
      "outputs": [
        {
          "name": "stdout",
          "output_type": "stream",
          "text": [
            "Model: \"sequential\"\n",
            "_________________________________________________________________\n",
            " Layer (type)                Output Shape              Param #   \n",
            "=================================================================\n",
            " dense (Dense)               (None, 64)                50240     \n",
            "                                                                 \n",
            " dense_1 (Dense)             (None, 32)                2080      \n",
            "                                                                 \n",
            " dense_2 (Dense)             (None, 10)                330       \n",
            "                                                                 \n",
            "=================================================================\n",
            "Total params: 52650 (205.66 KB)\n",
            "Trainable params: 52650 (205.66 KB)\n",
            "Non-trainable params: 0 (0.00 Byte)\n",
            "_________________________________________________________________\n"
          ]
        }
      ],
      "source": [
        "model.summary()"
      ]
    },
    {
      "cell_type": "code",
      "execution_count": 14,
      "metadata": {
        "colab": {
          "base_uri": "https://localhost:8080/",
          "height": 728
        },
        "id": "s3hZm7Ia_zVn",
        "outputId": "96b5d120-c5cf-4b34-c86f-39fbd7a9c3fe"
      },
      "outputs": [
        {
          "ename": "ValueError",
          "evalue": "in user code:\n\n    File \"/usr/local/lib/python3.10/dist-packages/keras/src/engine/training.py\", line 2440, in predict_function  *\n        return step_function(self, iterator)\n    File \"/usr/local/lib/python3.10/dist-packages/keras/src/engine/training.py\", line 2425, in step_function  **\n        outputs = model.distribute_strategy.run(run_step, args=(data,))\n    File \"/usr/local/lib/python3.10/dist-packages/keras/src/engine/training.py\", line 2413, in run_step  **\n        outputs = model.predict_step(data)\n    File \"/usr/local/lib/python3.10/dist-packages/keras/src/engine/training.py\", line 2381, in predict_step\n        return self(x, training=False)\n    File \"/usr/local/lib/python3.10/dist-packages/keras/src/utils/traceback_utils.py\", line 70, in error_handler\n        raise e.with_traceback(filtered_tb) from None\n    File \"/usr/local/lib/python3.10/dist-packages/keras/src/engine/input_spec.py\", line 253, in assert_input_compatibility\n        raise ValueError(\n\n    ValueError: Exception encountered when calling layer 'sequential' (type Sequential).\n    \n    Input 0 of layer \"dense\" is incompatible with the layer: expected min_ndim=2, found ndim=1. Full shape received: (None,)\n    \n    Call arguments received by layer 'sequential' (type Sequential):\n      • inputs=tf.Tensor(shape=(None,), dtype=uint8)\n      • training=False\n      • mask=None\n",
          "output_type": "error",
          "traceback": [
            "\u001b[0;31m---------------------------------------------------------------------------\u001b[0m",
            "\u001b[0;31mValueError\u001b[0m                                Traceback (most recent call last)",
            "\u001b[0;32m<ipython-input-14-ae13deedf8b6>\u001b[0m in \u001b[0;36m<cell line: 1>\u001b[0;34m()\u001b[0m\n\u001b[0;32m----> 1\u001b[0;31m \u001b[0mmodel\u001b[0m\u001b[0;34m.\u001b[0m\u001b[0mpredict\u001b[0m\u001b[0;34m(\u001b[0m\u001b[0mytest\u001b[0m\u001b[0;34m)\u001b[0m\u001b[0;34m\u001b[0m\u001b[0;34m\u001b[0m\u001b[0m\n\u001b[0m",
            "\u001b[0;32m/usr/local/lib/python3.10/dist-packages/keras/src/utils/traceback_utils.py\u001b[0m in \u001b[0;36merror_handler\u001b[0;34m(*args, **kwargs)\u001b[0m\n\u001b[1;32m     68\u001b[0m             \u001b[0;31m# To get the full stack trace, call:\u001b[0m\u001b[0;34m\u001b[0m\u001b[0;34m\u001b[0m\u001b[0m\n\u001b[1;32m     69\u001b[0m             \u001b[0;31m# `tf.debugging.disable_traceback_filtering()`\u001b[0m\u001b[0;34m\u001b[0m\u001b[0;34m\u001b[0m\u001b[0m\n\u001b[0;32m---> 70\u001b[0;31m             \u001b[0;32mraise\u001b[0m \u001b[0me\u001b[0m\u001b[0;34m.\u001b[0m\u001b[0mwith_traceback\u001b[0m\u001b[0;34m(\u001b[0m\u001b[0mfiltered_tb\u001b[0m\u001b[0;34m)\u001b[0m \u001b[0;32mfrom\u001b[0m \u001b[0;32mNone\u001b[0m\u001b[0;34m\u001b[0m\u001b[0;34m\u001b[0m\u001b[0m\n\u001b[0m\u001b[1;32m     71\u001b[0m         \u001b[0;32mfinally\u001b[0m\u001b[0;34m:\u001b[0m\u001b[0;34m\u001b[0m\u001b[0;34m\u001b[0m\u001b[0m\n\u001b[1;32m     72\u001b[0m             \u001b[0;32mdel\u001b[0m \u001b[0mfiltered_tb\u001b[0m\u001b[0;34m\u001b[0m\u001b[0;34m\u001b[0m\u001b[0m\n",
            "\u001b[0;32m/usr/local/lib/python3.10/dist-packages/keras/src/engine/training.py\u001b[0m in \u001b[0;36mtf__predict_function\u001b[0;34m(iterator)\u001b[0m\n\u001b[1;32m     13\u001b[0m                 \u001b[0;32mtry\u001b[0m\u001b[0;34m:\u001b[0m\u001b[0;34m\u001b[0m\u001b[0;34m\u001b[0m\u001b[0m\n\u001b[1;32m     14\u001b[0m                     \u001b[0mdo_return\u001b[0m \u001b[0;34m=\u001b[0m \u001b[0;32mTrue\u001b[0m\u001b[0;34m\u001b[0m\u001b[0;34m\u001b[0m\u001b[0m\n\u001b[0;32m---> 15\u001b[0;31m                     \u001b[0mretval_\u001b[0m \u001b[0;34m=\u001b[0m \u001b[0mag__\u001b[0m\u001b[0;34m.\u001b[0m\u001b[0mconverted_call\u001b[0m\u001b[0;34m(\u001b[0m\u001b[0mag__\u001b[0m\u001b[0;34m.\u001b[0m\u001b[0mld\u001b[0m\u001b[0;34m(\u001b[0m\u001b[0mstep_function\u001b[0m\u001b[0;34m)\u001b[0m\u001b[0;34m,\u001b[0m \u001b[0;34m(\u001b[0m\u001b[0mag__\u001b[0m\u001b[0;34m.\u001b[0m\u001b[0mld\u001b[0m\u001b[0;34m(\u001b[0m\u001b[0mself\u001b[0m\u001b[0;34m)\u001b[0m\u001b[0;34m,\u001b[0m \u001b[0mag__\u001b[0m\u001b[0;34m.\u001b[0m\u001b[0mld\u001b[0m\u001b[0;34m(\u001b[0m\u001b[0miterator\u001b[0m\u001b[0;34m)\u001b[0m\u001b[0;34m)\u001b[0m\u001b[0;34m,\u001b[0m \u001b[0;32mNone\u001b[0m\u001b[0;34m,\u001b[0m \u001b[0mfscope\u001b[0m\u001b[0;34m)\u001b[0m\u001b[0;34m\u001b[0m\u001b[0;34m\u001b[0m\u001b[0m\n\u001b[0m\u001b[1;32m     16\u001b[0m                 \u001b[0;32mexcept\u001b[0m\u001b[0;34m:\u001b[0m\u001b[0;34m\u001b[0m\u001b[0;34m\u001b[0m\u001b[0m\n\u001b[1;32m     17\u001b[0m                     \u001b[0mdo_return\u001b[0m \u001b[0;34m=\u001b[0m \u001b[0;32mFalse\u001b[0m\u001b[0;34m\u001b[0m\u001b[0;34m\u001b[0m\u001b[0m\n",
            "\u001b[0;31mValueError\u001b[0m: in user code:\n\n    File \"/usr/local/lib/python3.10/dist-packages/keras/src/engine/training.py\", line 2440, in predict_function  *\n        return step_function(self, iterator)\n    File \"/usr/local/lib/python3.10/dist-packages/keras/src/engine/training.py\", line 2425, in step_function  **\n        outputs = model.distribute_strategy.run(run_step, args=(data,))\n    File \"/usr/local/lib/python3.10/dist-packages/keras/src/engine/training.py\", line 2413, in run_step  **\n        outputs = model.predict_step(data)\n    File \"/usr/local/lib/python3.10/dist-packages/keras/src/engine/training.py\", line 2381, in predict_step\n        return self(x, training=False)\n    File \"/usr/local/lib/python3.10/dist-packages/keras/src/utils/traceback_utils.py\", line 70, in error_handler\n        raise e.with_traceback(filtered_tb) from None\n    File \"/usr/local/lib/python3.10/dist-packages/keras/src/engine/input_spec.py\", line 253, in assert_input_compatibility\n        raise ValueError(\n\n    ValueError: Exception encountered when calling layer 'sequential' (type Sequential).\n    \n    Input 0 of layer \"dense\" is incompatible with the layer: expected min_ndim=2, found ndim=1. Full shape received: (None,)\n    \n    Call arguments received by layer 'sequential' (type Sequential):\n      • inputs=tf.Tensor(shape=(None,), dtype=uint8)\n      • training=False\n      • mask=None\n"
          ]
        }
      ],
      "source": [
        "model.predict(ytest)"
      ]
    },
    {
      "cell_type": "code",
      "execution_count": null,
      "metadata": {
        "id": "VvPH2NZz_zAq"
      },
      "outputs": [],
      "source": []
    }
  ],
  "metadata": {
    "colab": {
      "provenance": []
    },
    "kernelspec": {
      "display_name": "Python 3",
      "name": "python3"
    },
    "language_info": {
      "name": "python"
    }
  },
  "nbformat": 4,
  "nbformat_minor": 0
}
